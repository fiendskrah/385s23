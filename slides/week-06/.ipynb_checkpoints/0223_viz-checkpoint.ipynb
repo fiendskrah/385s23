{
 "cells": [
  {
   "cell_type": "markdown",
   "id": "abe189d0-5c91-4ecc-bebd-d665979c6645",
   "metadata": {},
   "source": [
    "---\n",
    "title: Visualization for Area Unit Data\n",
    "author: Serge Rey\n",
    "date: '2023-02-23'\n",
    "execute: \n",
    "  enabled: true\n",
    "format:\n",
    "  html:\n",
    "    theme:\n",
    "      light: flatly\n",
    "      dark: darkly\n",
    "    toc: true\n",
    "jupyter: python3\n",
    "---"
   ]
  },
  {
   "cell_type": "markdown",
   "id": "bd51d6df-fd1c-4323-8314-0abc5a16ff86",
   "metadata": {},
   "source": [
    "## Statistical Visualization of Area Unit Data"
   ]
  }
 ],
 "metadata": {
  "kernelspec": {
   "display_name": "Python 3 (ipykernel)",
   "language": "python",
   "name": "python3"
  },
  "language_info": {
   "codemirror_mode": {
    "name": "ipython",
    "version": 3
   },
   "file_extension": ".py",
   "mimetype": "text/x-python",
   "name": "python",
   "nbconvert_exporter": "python",
   "pygments_lexer": "ipython3",
   "version": "3.10.9"
  }
 },
 "nbformat": 4,
 "nbformat_minor": 5
}
